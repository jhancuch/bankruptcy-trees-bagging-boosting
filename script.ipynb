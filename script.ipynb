{
 "cells": [
  {
   "cell_type": "markdown",
   "id": "2121e540-7fbc-4512-84ef-5c1ec73fe8be",
   "metadata": {},
   "source": [
    "# EDA of Bankruptcy Data and Building Random Forest Classifier, Gradient Boosted Trees, and Extra Trees"
   ]
  },
  {
   "cell_type": "markdown",
   "id": "338aeb21-7819-4ee2-ba69-8f29950cd240",
   "metadata": {},
   "source": [
    "The goal is to explore the new data set and build three models (using an 80/20 train/test split) to predict bankruptcy of a firm."
   ]
  },
  {
   "cell_type": "code",
   "execution_count": 10,
   "id": "0453ff41-3da8-4966-83d1-7b8fdfc00927",
   "metadata": {},
   "outputs": [],
   "source": [
    "import pandas as pd\n",
    "import numpy as np\n",
    "\n",
    "from matplotlib import pyplot as plt\n",
    "from matplotlib.gridspec import GridSpec\n",
    "import seaborn as sns"
   ]
  },
  {
   "cell_type": "markdown",
   "id": "0d86e595-510a-4c9b-aab4-6a0b52970c8d",
   "metadata": {},
   "source": [
    "## Ingest"
   ]
  },
  {
   "cell_type": "code",
   "execution_count": null,
   "id": "8ab32c43-e7fd-4051-a71b-87a3b5d6310d",
   "metadata": {},
   "outputs": [],
   "source": [
    "data = pd.read_csv('https://raw.githubusercontent.com/jhancuch/bankruptcy-trees-bagging-boosting/main/data/data.csv')"
   ]
  },
  {
   "cell_type": "code",
   "execution_count": null,
   "id": "6b0b8814-fb8e-41d8-b5a5-5f824bf2928a",
   "metadata": {},
   "outputs": [],
   "source": [
    "data.shape"
   ]
  },
  {
   "cell_type": "code",
   "execution_count": null,
   "id": "00827d1d-e3b6-446d-b8e6-c13494f1df85",
   "metadata": {},
   "outputs": [],
   "source": [
    "data.columns"
   ]
  },
  {
   "cell_type": "code",
   "execution_count": null,
   "id": "e7480b9f-8cca-4db5-8d2c-dadd6257340d",
   "metadata": {},
   "outputs": [],
   "source": [
    "data.info()"
   ]
  },
  {
   "cell_type": "code",
   "execution_count": null,
   "id": "4762ffd8-5b6a-4700-a0e4-f710c3ccf7ba",
   "metadata": {},
   "outputs": [],
   "source": [
    "data.head()"
   ]
  },
  {
   "cell_type": "code",
   "execution_count": null,
   "id": "1c4d6c8e-982c-4eb3-b3c7-c7992c490191",
   "metadata": {},
   "outputs": [],
   "source": [
    "data.tail()"
   ]
  },
  {
   "cell_type": "code",
   "execution_count": null,
   "id": "512738e0-9461-4c8d-b530-166fd0ad1cfb",
   "metadata": {},
   "outputs": [],
   "source": [
    "data.iloc[:, 0].value_counts()"
   ]
  },
  {
   "cell_type": "markdown",
   "id": "80b3ae04-1a9e-4ebf-a124-578d15968765",
   "metadata": {},
   "source": [
    "## EDA"
   ]
  },
  {
   "cell_type": "markdown",
   "id": "c8f800f3-5cbe-4bc3-906f-0bcf1cad6c1f",
   "metadata": {},
   "source": [
    "## Preprocessing "
   ]
  },
  {
   "cell_type": "markdown",
   "id": "0f6d8ac7-67b8-4071-b9a8-34e11d4484e8",
   "metadata": {},
   "source": [
    "## Models"
   ]
  },
  {
   "cell_type": "markdown",
   "id": "15d89cb4-3852-4e57-95ab-8ef3eca9ba2f",
   "metadata": {},
   "source": [
    "### Random Forest"
   ]
  },
  {
   "cell_type": "markdown",
   "id": "7f084945-5065-4a35-a707-f61bbd12a59d",
   "metadata": {},
   "source": [
    "### Gradient Boosted Trees"
   ]
  },
  {
   "cell_type": "markdown",
   "id": "a33581b5-ec6d-4783-8551-eba90d4e7930",
   "metadata": {},
   "source": [
    "### Extra Trees"
   ]
  },
  {
   "cell_type": "markdown",
   "id": "6155106a-9ca0-4441-b218-cf98de467a7c",
   "metadata": {},
   "source": [
    "## Conclusion"
   ]
  },
  {
   "cell_type": "code",
   "execution_count": null,
   "id": "a45aeb06-bf9d-4bc8-808d-e1b755f46652",
   "metadata": {},
   "outputs": [],
   "source": []
  }
 ],
 "metadata": {
  "kernelspec": {
   "display_name": "Python 3 (ipykernel)",
   "language": "python",
   "name": "python3"
  },
  "language_info": {
   "codemirror_mode": {
    "name": "ipython",
    "version": 3
   },
   "file_extension": ".py",
   "mimetype": "text/x-python",
   "name": "python",
   "nbconvert_exporter": "python",
   "pygments_lexer": "ipython3",
   "version": "3.9.9"
  }
 },
 "nbformat": 4,
 "nbformat_minor": 5
}
